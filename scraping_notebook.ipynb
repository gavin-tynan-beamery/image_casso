{
 "cells": [
  {
   "cell_type": "code",
   "execution_count": 1,
   "metadata": {},
   "outputs": [],
   "source": [
    "import os\n",
    "import selenium\n",
    "from selenium import webdriver\n",
    "import time\n",
    "from PIL import Image\n",
    "import re\n",
    "import urllib.request\n",
    "\n",
    "import io\n",
    "import requests\n",
    "\n",
    "from bs4 import BeautifulSoup\n",
    "\n",
    "from selenium import webdriver\n",
    "from selenium.webdriver.common.by import By\n",
    "from selenium.webdriver.support.ui import WebDriverWait\n",
    "from selenium.webdriver.support import expected_conditions as EC\n",
    "from selenium.webdriver.common.by import By\n",
    "from webdriver_manager.chrome import ChromeDriverManager\n",
    "from selenium.common.exceptions import ElementClickInterceptedException\n",
    "from selenium import webdriver \n",
    "\n",
    "from pathlib import Path\n",
    "\n",
    "%config Completer.use_jedi = False"
   ]
  },
  {
   "cell_type": "markdown",
   "metadata": {},
   "source": [
    "# Manual\n",
    "\n",
    "Define the URL of the query you're interested in and the name of the location"
   ]
  },
  {
   "cell_type": "code",
   "execution_count": 2,
   "metadata": {},
   "outputs": [],
   "source": [
    "location_name = \"algarve\"\n",
    "\n",
    "# create base folder\n",
    "Path(f\"data/{location_name}/\").mkdir(parents=True, exist_ok=True)"
   ]
  },
  {
   "cell_type": "code",
   "execution_count": 3,
   "metadata": {},
   "outputs": [],
   "source": [
    "search_url = \\\n",
    "    \"https://www.jamesvillas.ie/destinations/portugal/algarve/vale-do-lobo/all-villas-to-rent-in-vale-do-lobo\""
   ]
  },
  {
   "cell_type": "markdown",
   "metadata": {},
   "source": [
    "# Automated"
   ]
  },
  {
   "cell_type": "markdown",
   "metadata": {},
   "source": [
    "Chrome options: seting `headless=True` will prevent chrome opening and will instead work in the background "
   ]
  },
  {
   "cell_type": "code",
   "execution_count": 4,
   "metadata": {},
   "outputs": [],
   "source": [
    "opts = webdriver.ChromeOptions()\n",
    "opts.headless = False"
   ]
  },
  {
   "cell_type": "code",
   "execution_count": 5,
   "metadata": {},
   "outputs": [
    {
     "name": "stderr",
     "output_type": "stream",
     "text": [
      "[WDM] - \n",
      "\n",
      "[WDM] - ====== WebDriver manager ======\n",
      "[WDM] - Current google-chrome version is 94.0.4606\n",
      "[WDM] - Get LATEST driver version for 94.0.4606\n",
      "[WDM] - Driver [/Users/gavintynan/.wdm/drivers/chromedriver/mac64/94.0.4606.61/chromedriver] found in cache\n"
     ]
    }
   ],
   "source": [
    "# ignore the red, just printing logs of the driver downloading\n",
    "driver = webdriver.Chrome(ChromeDriverManager().install(), options=opts)"
   ]
  },
  {
   "cell_type": "markdown",
   "metadata": {},
   "source": [
    "## Search"
   ]
  },
  {
   "cell_type": "code",
   "execution_count": 6,
   "metadata": {},
   "outputs": [],
   "source": [
    "driver.get(search_url)"
   ]
  },
  {
   "cell_type": "code",
   "execution_count": 7,
   "metadata": {},
   "outputs": [],
   "source": [
    "# there will be an element in the list for each destination within the url search\n",
    "search_results = driver.find_elements_by_xpath(\"//*[starts-with(@id, 'result')]\")"
   ]
  },
  {
   "cell_type": "code",
   "execution_count": null,
   "metadata": {},
   "outputs": [],
   "source": [
    "\n"
   ]
  },
  {
   "cell_type": "code",
   "execution_count": 8,
   "metadata": {},
   "outputs": [],
   "source": [
    "for i, result in enumerate(search_results):\n",
    "    \n",
    "    # one of the elements is a the overall container ignore it \n",
    "    if result.get_attribute(\"id\") == 'results':\n",
    "        continue\n",
    "        \n",
    "    # open a new tab by clicking the destination    \n",
    "    result.click()\n",
    "\n",
    "    # switch our drivers contenxt to said new tab\n",
    "    driver.switch_to.window(driver.window_handles[i])\n",
    "    \n",
    "    # wait til next button appears on page\n",
    "    next_button = WebDriverWait(driver, 10).until(\n",
    "        EC.presence_of_element_located((By.CLASS_NAME, 'owl-next'))\n",
    "    )\n",
    "    \n",
    "    # way to parse pages html\n",
    "    soup = BeautifulSoup(driver.page_source, 'html')\n",
    "    \n",
    "    # find center image div\n",
    "    first_image = soup.find(\"div\", {\"class\": \"owl-item active center\"})\n",
    "    current_image = first_image\n",
    "    \n",
    "    while True: \n",
    "        \n",
    "        # our images are actually the div surrounding it so have to get img from div\n",
    "        for div in current_image.children:\n",
    "            # extract url\n",
    "            img = re.search(\n",
    "                \"(https?:\\/\\/.*\\.(?:png|jpg))\", div['style']).group(0)\n",
    "            # use index for naming\n",
    "            index = div['data-index']\n",
    "            \n",
    "            # download image\n",
    "            urllib.request.urlretrieve(img, \n",
    "                                       \"./data/{}/destination_{}_pic_{}.jpg\".format(location_name, i, index))\n",
    "        \n",
    "        # go to next image on page\n",
    "        next_button.click()\n",
    "        \n",
    "        soup = BeautifulSoup(driver.page_source, 'html')\n",
    "        current_image = soup.find(\"div\", {\"class\": \"owl-item active center\"})\n",
    "        \n",
    "        # once we cycle back to the first image stop for loop\n",
    "        if first_image == current_image:\n",
    "            break\n",
    "                \n",
    "    driver.switch_to.window(driver.window_handles[0])"
   ]
  },
  {
   "cell_type": "code",
   "execution_count": null,
   "metadata": {},
   "outputs": [],
   "source": []
  }
 ],
 "metadata": {
  "kernelspec": {
   "display_name": "Python 3",
   "language": "python",
   "name": "python3"
  },
  "language_info": {
   "codemirror_mode": {
    "name": "ipython",
    "version": 3
   },
   "file_extension": ".py",
   "mimetype": "text/x-python",
   "name": "python",
   "nbconvert_exporter": "python",
   "pygments_lexer": "ipython3",
   "version": "3.7.11"
  }
 },
 "nbformat": 4,
 "nbformat_minor": 4
}
